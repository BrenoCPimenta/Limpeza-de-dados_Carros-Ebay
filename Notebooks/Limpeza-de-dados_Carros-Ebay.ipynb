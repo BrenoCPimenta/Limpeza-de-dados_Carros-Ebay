{
 "cells": [
  {
   "cell_type": "markdown",
   "metadata": {},
   "source": [
    "<img src=\"../Fotos/foto01.png\" alt=\"Drawing\" style=\"width:950px;\"/>"
   ]
  },
  {
   "cell_type": "markdown",
   "metadata": {},
   "source": [
    "# Limpeza de Dados em um DataSet de Carros usados do Ebay"
   ]
  },
  {
   "cell_type": "markdown",
   "metadata": {},
   "source": [
    "* Esse projeto será especialmente em português devido a um pedido de um amigo.\n",
    " "
   ]
  },
  {
   "cell_type": "markdown",
   "metadata": {},
   "source": [
    "### <img src=\"../Fotos/foto02.png\" alt=\"Drawing\" style=\"width:20px; float:left\"/> &nbsp; Dataset\n",
    "O dataset original foi construído a partir do ebay alemão e foi disponibilizado no Kaggle [aqui](https://www.kaggle.com/orgesleka/used-cars-database/data), com 370.000 elementos distintos.\n",
    "<br>No entanto será usado a versão do site [dataquest](https://www.dataquest.io), que se encontra na pasta Dados.\n",
    "<br>O pessoal do site alterou o dataset com os seguintes objetivos:\n",
    "1. Para que tenha os erros mais comuns de uma coleta de dados 'crua' da internet, como é usual de se ter após a realização de pesquisas com ferramentas, como por exemplo [Scrapy](https://scrapy.org/).\n",
    "2. Ter seu tamanho reduzido para 50.000 elementos apenas, o que torna o processamento mais rápido, já que o intuito desse projeto é que mais pessoas possam baixá-lo e rodá-lo com facilidade em seus distintos ambientes com facilidade."
   ]
  },
  {
   "cell_type": "code",
   "execution_count": 1,
   "metadata": {},
   "outputs": [],
   "source": [
    "import numpy as np\n",
    "import pandas as pd"
   ]
  },
  {
   "cell_type": "code",
   "execution_count": 2,
   "metadata": {},
   "outputs": [],
   "source": [
    "#Sera usado o latin-1, pois o padrao UTF-8 nao foi suficiente, outro possivel encoding popular seria o Windows-1252\n",
    "autos = pd.read_csv(\"../Dados/autos.csv\", encoding = \"latin-1\") "
   ]
  },
  {
   "cell_type": "code",
   "execution_count": 3,
   "metadata": {},
   "outputs": [
    {
     "data": {
      "text/plain": [
       "(50000, 20)"
      ]
     },
     "execution_count": 3,
     "metadata": {},
     "output_type": "execute_result"
    }
   ],
   "source": [
    "autos.shape"
   ]
  },
  {
   "cell_type": "code",
   "execution_count": 4,
   "metadata": {},
   "outputs": [
    {
     "data": {
      "text/html": [
       "<div>\n",
       "<style scoped>\n",
       "    .dataframe tbody tr th:only-of-type {\n",
       "        vertical-align: middle;\n",
       "    }\n",
       "\n",
       "    .dataframe tbody tr th {\n",
       "        vertical-align: top;\n",
       "    }\n",
       "\n",
       "    .dataframe thead th {\n",
       "        text-align: right;\n",
       "    }\n",
       "</style>\n",
       "<table border=\"1\" class=\"dataframe\">\n",
       "  <thead>\n",
       "    <tr style=\"text-align: right;\">\n",
       "      <th></th>\n",
       "      <th>dateCrawled</th>\n",
       "      <th>name</th>\n",
       "      <th>seller</th>\n",
       "      <th>offerType</th>\n",
       "      <th>price</th>\n",
       "      <th>abtest</th>\n",
       "      <th>vehicleType</th>\n",
       "      <th>yearOfRegistration</th>\n",
       "      <th>gearbox</th>\n",
       "      <th>powerPS</th>\n",
       "      <th>model</th>\n",
       "      <th>odometer</th>\n",
       "      <th>monthOfRegistration</th>\n",
       "      <th>fuelType</th>\n",
       "      <th>brand</th>\n",
       "      <th>notRepairedDamage</th>\n",
       "      <th>dateCreated</th>\n",
       "      <th>nrOfPictures</th>\n",
       "      <th>postalCode</th>\n",
       "      <th>lastSeen</th>\n",
       "    </tr>\n",
       "  </thead>\n",
       "  <tbody>\n",
       "    <tr>\n",
       "      <th>0</th>\n",
       "      <td>2016-03-26 17:47:46</td>\n",
       "      <td>Peugeot_807_160_NAVTECH_ON_BOARD</td>\n",
       "      <td>privat</td>\n",
       "      <td>Angebot</td>\n",
       "      <td>$5,000</td>\n",
       "      <td>control</td>\n",
       "      <td>bus</td>\n",
       "      <td>2004</td>\n",
       "      <td>manuell</td>\n",
       "      <td>158</td>\n",
       "      <td>andere</td>\n",
       "      <td>150,000km</td>\n",
       "      <td>3</td>\n",
       "      <td>lpg</td>\n",
       "      <td>peugeot</td>\n",
       "      <td>nein</td>\n",
       "      <td>2016-03-26 00:00:00</td>\n",
       "      <td>0</td>\n",
       "      <td>79588</td>\n",
       "      <td>2016-04-06 06:45:54</td>\n",
       "    </tr>\n",
       "    <tr>\n",
       "      <th>1</th>\n",
       "      <td>2016-04-04 13:38:56</td>\n",
       "      <td>BMW_740i_4_4_Liter_HAMANN_UMBAU_Mega_Optik</td>\n",
       "      <td>privat</td>\n",
       "      <td>Angebot</td>\n",
       "      <td>$8,500</td>\n",
       "      <td>control</td>\n",
       "      <td>limousine</td>\n",
       "      <td>1997</td>\n",
       "      <td>automatik</td>\n",
       "      <td>286</td>\n",
       "      <td>7er</td>\n",
       "      <td>150,000km</td>\n",
       "      <td>6</td>\n",
       "      <td>benzin</td>\n",
       "      <td>bmw</td>\n",
       "      <td>nein</td>\n",
       "      <td>2016-04-04 00:00:00</td>\n",
       "      <td>0</td>\n",
       "      <td>71034</td>\n",
       "      <td>2016-04-06 14:45:08</td>\n",
       "    </tr>\n",
       "    <tr>\n",
       "      <th>2</th>\n",
       "      <td>2016-03-26 18:57:24</td>\n",
       "      <td>Volkswagen_Golf_1.6_United</td>\n",
       "      <td>privat</td>\n",
       "      <td>Angebot</td>\n",
       "      <td>$8,990</td>\n",
       "      <td>test</td>\n",
       "      <td>limousine</td>\n",
       "      <td>2009</td>\n",
       "      <td>manuell</td>\n",
       "      <td>102</td>\n",
       "      <td>golf</td>\n",
       "      <td>70,000km</td>\n",
       "      <td>7</td>\n",
       "      <td>benzin</td>\n",
       "      <td>volkswagen</td>\n",
       "      <td>nein</td>\n",
       "      <td>2016-03-26 00:00:00</td>\n",
       "      <td>0</td>\n",
       "      <td>35394</td>\n",
       "      <td>2016-04-06 20:15:37</td>\n",
       "    </tr>\n",
       "    <tr>\n",
       "      <th>3</th>\n",
       "      <td>2016-03-12 16:58:10</td>\n",
       "      <td>Smart_smart_fortwo_coupe_softouch/F1/Klima/Pan...</td>\n",
       "      <td>privat</td>\n",
       "      <td>Angebot</td>\n",
       "      <td>$4,350</td>\n",
       "      <td>control</td>\n",
       "      <td>kleinwagen</td>\n",
       "      <td>2007</td>\n",
       "      <td>automatik</td>\n",
       "      <td>71</td>\n",
       "      <td>fortwo</td>\n",
       "      <td>70,000km</td>\n",
       "      <td>6</td>\n",
       "      <td>benzin</td>\n",
       "      <td>smart</td>\n",
       "      <td>nein</td>\n",
       "      <td>2016-03-12 00:00:00</td>\n",
       "      <td>0</td>\n",
       "      <td>33729</td>\n",
       "      <td>2016-03-15 03:16:28</td>\n",
       "    </tr>\n",
       "    <tr>\n",
       "      <th>4</th>\n",
       "      <td>2016-04-01 14:38:50</td>\n",
       "      <td>Ford_Focus_1_6_Benzin_TÜV_neu_ist_sehr_gepfleg...</td>\n",
       "      <td>privat</td>\n",
       "      <td>Angebot</td>\n",
       "      <td>$1,350</td>\n",
       "      <td>test</td>\n",
       "      <td>kombi</td>\n",
       "      <td>2003</td>\n",
       "      <td>manuell</td>\n",
       "      <td>0</td>\n",
       "      <td>focus</td>\n",
       "      <td>150,000km</td>\n",
       "      <td>7</td>\n",
       "      <td>benzin</td>\n",
       "      <td>ford</td>\n",
       "      <td>nein</td>\n",
       "      <td>2016-04-01 00:00:00</td>\n",
       "      <td>0</td>\n",
       "      <td>39218</td>\n",
       "      <td>2016-04-01 14:38:50</td>\n",
       "    </tr>\n",
       "  </tbody>\n",
       "</table>\n",
       "</div>"
      ],
      "text/plain": [
       "           dateCrawled                                               name  \\\n",
       "0  2016-03-26 17:47:46                   Peugeot_807_160_NAVTECH_ON_BOARD   \n",
       "1  2016-04-04 13:38:56         BMW_740i_4_4_Liter_HAMANN_UMBAU_Mega_Optik   \n",
       "2  2016-03-26 18:57:24                         Volkswagen_Golf_1.6_United   \n",
       "3  2016-03-12 16:58:10  Smart_smart_fortwo_coupe_softouch/F1/Klima/Pan...   \n",
       "4  2016-04-01 14:38:50  Ford_Focus_1_6_Benzin_TÜV_neu_ist_sehr_gepfleg...   \n",
       "\n",
       "   seller offerType   price   abtest vehicleType  yearOfRegistration  \\\n",
       "0  privat   Angebot  $5,000  control         bus                2004   \n",
       "1  privat   Angebot  $8,500  control   limousine                1997   \n",
       "2  privat   Angebot  $8,990     test   limousine                2009   \n",
       "3  privat   Angebot  $4,350  control  kleinwagen                2007   \n",
       "4  privat   Angebot  $1,350     test       kombi                2003   \n",
       "\n",
       "     gearbox  powerPS   model   odometer  monthOfRegistration fuelType  \\\n",
       "0    manuell      158  andere  150,000km                    3      lpg   \n",
       "1  automatik      286     7er  150,000km                    6   benzin   \n",
       "2    manuell      102    golf   70,000km                    7   benzin   \n",
       "3  automatik       71  fortwo   70,000km                    6   benzin   \n",
       "4    manuell        0   focus  150,000km                    7   benzin   \n",
       "\n",
       "        brand notRepairedDamage          dateCreated  nrOfPictures  \\\n",
       "0     peugeot              nein  2016-03-26 00:00:00             0   \n",
       "1         bmw              nein  2016-04-04 00:00:00             0   \n",
       "2  volkswagen              nein  2016-03-26 00:00:00             0   \n",
       "3       smart              nein  2016-03-12 00:00:00             0   \n",
       "4        ford              nein  2016-04-01 00:00:00             0   \n",
       "\n",
       "   postalCode             lastSeen  \n",
       "0       79588  2016-04-06 06:45:54  \n",
       "1       71034  2016-04-06 14:45:08  \n",
       "2       35394  2016-04-06 20:15:37  \n",
       "3       33729  2016-03-15 03:16:28  \n",
       "4       39218  2016-04-01 14:38:50  "
      ]
     },
     "execution_count": 4,
     "metadata": {},
     "output_type": "execute_result"
    }
   ],
   "source": [
    "autos.head(5)"
   ]
  },
  {
   "cell_type": "code",
   "execution_count": 5,
   "metadata": {},
   "outputs": [
    {
     "name": "stdout",
     "output_type": "stream",
     "text": [
      "<class 'pandas.core.frame.DataFrame'>\n",
      "RangeIndex: 50000 entries, 0 to 49999\n",
      "Data columns (total 20 columns):\n",
      "dateCrawled            50000 non-null object\n",
      "name                   50000 non-null object\n",
      "seller                 50000 non-null object\n",
      "offerType              50000 non-null object\n",
      "price                  50000 non-null object\n",
      "abtest                 50000 non-null object\n",
      "vehicleType            44905 non-null object\n",
      "yearOfRegistration     50000 non-null int64\n",
      "gearbox                47320 non-null object\n",
      "powerPS                50000 non-null int64\n",
      "model                  47242 non-null object\n",
      "odometer               50000 non-null object\n",
      "monthOfRegistration    50000 non-null int64\n",
      "fuelType               45518 non-null object\n",
      "brand                  50000 non-null object\n",
      "notRepairedDamage      40171 non-null object\n",
      "dateCreated            50000 non-null object\n",
      "nrOfPictures           50000 non-null int64\n",
      "postalCode             50000 non-null int64\n",
      "lastSeen               50000 non-null object\n",
      "dtypes: int64(5), object(15)\n",
      "memory usage: 7.6+ MB\n"
     ]
    }
   ],
   "source": [
    "autos.info()"
   ]
  },
  {
   "cell_type": "markdown",
   "metadata": {},
   "source": [
    "<b>Primeiras observações</b>\n",
    "* Como primeira análise podemos perceber que, como dito anteriormente, esse dataset possui 50.000 elementos, sendo eles divididos em 20 colunas distintas.\n",
    "* E podemos perceber também que algumas colunas que poderiam estar com tipos, numéricos por exemplo, como preço e quilometragem rodada que ajudariam em análises estão sem formatação.\n",
    "* Algumas colunas possuem objetos nulos, porém a maior parte está completa.\n",
    "* As colunas possuem formatação de nome em [cammelCase](https://pt.wikipedia.org/wiki/CamelCase), em vez do [snake_case](https://en.wikipedia.org/wiki/Snake_case) como se opta em boas práticas de python.\n"
   ]
  },
  {
   "cell_type": "code",
   "execution_count": 6,
   "metadata": {},
   "outputs": [
    {
     "data": {
      "text/plain": [
       "Index(['dateCrawled', 'name', 'seller', 'offerType', 'price', 'abtest',\n",
       "       'vehicleType', 'yearOfRegistration', 'gearbox', 'powerPS', 'model',\n",
       "       'odometer', 'monthOfRegistration', 'fuelType', 'brand',\n",
       "       'notRepairedDamage', 'dateCreated', 'nrOfPictures', 'postalCode',\n",
       "       'lastSeen'],\n",
       "      dtype='object')"
      ]
     },
     "execution_count": 6,
     "metadata": {},
     "output_type": "execute_result"
    }
   ],
   "source": [
    "autos.columns"
   ]
  },
  {
   "cell_type": "code",
   "execution_count": 7,
   "metadata": {},
   "outputs": [
    {
     "name": "stdout",
     "output_type": "stream",
     "text": [
      "Index(['crawled_date', 'name', 'seller', 'offer_type', 'price', 'abtest',\n",
      "       'vehicle_type', 'registration_year', 'gearbox', 'power_ps', 'model',\n",
      "       'odometer', 'registration_month', 'fuel_type', 'brand', 'damage',\n",
      "       'add_date', 'pictures_number', 'postal_code', 'last_seen'],\n",
      "      dtype='object')\n"
     ]
    }
   ],
   "source": [
    "#Renomeando colunas\n",
    "autos.rename({\"dateCrawled\":\"crawled_date\",\n",
    "               \"offerType\":\"offer_type\",\n",
    "               \"vehicleType\":\"vehicle_type\",\n",
    "               \"yearOfRegistration\":\"registration_year\",\n",
    "               \"powerPS\":\"power_ps\",\n",
    "               \"monthOfRegistration\":\"registration_month\",\n",
    "               \"fuelType\":\"fuel_type\",\n",
    "               \"notRepairedDamage\":\"damage\",\n",
    "               \"dateCreated\":\"add_date\",\n",
    "               \"nrOfPictures\":\"pictures_number\",\n",
    "               \"postalCode\":\"postal_code\",\n",
    "               \"lastSeen\":\"last_seen\"}, axis=1, inplace=True)\n",
    "print(autos.columns)"
   ]
  },
  {
   "cell_type": "code",
   "execution_count": 8,
   "metadata": {},
   "outputs": [
    {
     "data": {
      "text/html": [
       "<div>\n",
       "<style scoped>\n",
       "    .dataframe tbody tr th:only-of-type {\n",
       "        vertical-align: middle;\n",
       "    }\n",
       "\n",
       "    .dataframe tbody tr th {\n",
       "        vertical-align: top;\n",
       "    }\n",
       "\n",
       "    .dataframe thead th {\n",
       "        text-align: right;\n",
       "    }\n",
       "</style>\n",
       "<table border=\"1\" class=\"dataframe\">\n",
       "  <thead>\n",
       "    <tr style=\"text-align: right;\">\n",
       "      <th></th>\n",
       "      <th>crawled_date</th>\n",
       "      <th>name</th>\n",
       "      <th>seller</th>\n",
       "      <th>offer_type</th>\n",
       "      <th>price</th>\n",
       "      <th>abtest</th>\n",
       "      <th>vehicle_type</th>\n",
       "      <th>registration_year</th>\n",
       "      <th>gearbox</th>\n",
       "      <th>power_ps</th>\n",
       "      <th>model</th>\n",
       "      <th>odometer</th>\n",
       "      <th>registration_month</th>\n",
       "      <th>fuel_type</th>\n",
       "      <th>brand</th>\n",
       "      <th>damage</th>\n",
       "      <th>add_date</th>\n",
       "      <th>pictures_number</th>\n",
       "      <th>postal_code</th>\n",
       "      <th>last_seen</th>\n",
       "    </tr>\n",
       "  </thead>\n",
       "  <tbody>\n",
       "    <tr>\n",
       "      <th>count</th>\n",
       "      <td>50000</td>\n",
       "      <td>50000</td>\n",
       "      <td>50000</td>\n",
       "      <td>50000</td>\n",
       "      <td>50000</td>\n",
       "      <td>50000</td>\n",
       "      <td>44905</td>\n",
       "      <td>50000.000000</td>\n",
       "      <td>47320</td>\n",
       "      <td>50000.000000</td>\n",
       "      <td>47242</td>\n",
       "      <td>50000</td>\n",
       "      <td>50000.000000</td>\n",
       "      <td>45518</td>\n",
       "      <td>50000</td>\n",
       "      <td>40171</td>\n",
       "      <td>50000</td>\n",
       "      <td>50000.0</td>\n",
       "      <td>50000.000000</td>\n",
       "      <td>50000</td>\n",
       "    </tr>\n",
       "    <tr>\n",
       "      <th>unique</th>\n",
       "      <td>48213</td>\n",
       "      <td>38754</td>\n",
       "      <td>2</td>\n",
       "      <td>2</td>\n",
       "      <td>2357</td>\n",
       "      <td>2</td>\n",
       "      <td>8</td>\n",
       "      <td>NaN</td>\n",
       "      <td>2</td>\n",
       "      <td>NaN</td>\n",
       "      <td>245</td>\n",
       "      <td>13</td>\n",
       "      <td>NaN</td>\n",
       "      <td>7</td>\n",
       "      <td>40</td>\n",
       "      <td>2</td>\n",
       "      <td>76</td>\n",
       "      <td>NaN</td>\n",
       "      <td>NaN</td>\n",
       "      <td>39481</td>\n",
       "    </tr>\n",
       "    <tr>\n",
       "      <th>top</th>\n",
       "      <td>2016-03-11 22:38:16</td>\n",
       "      <td>Ford_Fiesta</td>\n",
       "      <td>privat</td>\n",
       "      <td>Angebot</td>\n",
       "      <td>$0</td>\n",
       "      <td>test</td>\n",
       "      <td>limousine</td>\n",
       "      <td>NaN</td>\n",
       "      <td>manuell</td>\n",
       "      <td>NaN</td>\n",
       "      <td>golf</td>\n",
       "      <td>150,000km</td>\n",
       "      <td>NaN</td>\n",
       "      <td>benzin</td>\n",
       "      <td>volkswagen</td>\n",
       "      <td>nein</td>\n",
       "      <td>2016-04-03 00:00:00</td>\n",
       "      <td>NaN</td>\n",
       "      <td>NaN</td>\n",
       "      <td>2016-04-07 06:17:27</td>\n",
       "    </tr>\n",
       "    <tr>\n",
       "      <th>freq</th>\n",
       "      <td>3</td>\n",
       "      <td>78</td>\n",
       "      <td>49999</td>\n",
       "      <td>49999</td>\n",
       "      <td>1421</td>\n",
       "      <td>25756</td>\n",
       "      <td>12859</td>\n",
       "      <td>NaN</td>\n",
       "      <td>36993</td>\n",
       "      <td>NaN</td>\n",
       "      <td>4024</td>\n",
       "      <td>32424</td>\n",
       "      <td>NaN</td>\n",
       "      <td>30107</td>\n",
       "      <td>10687</td>\n",
       "      <td>35232</td>\n",
       "      <td>1946</td>\n",
       "      <td>NaN</td>\n",
       "      <td>NaN</td>\n",
       "      <td>8</td>\n",
       "    </tr>\n",
       "    <tr>\n",
       "      <th>mean</th>\n",
       "      <td>NaN</td>\n",
       "      <td>NaN</td>\n",
       "      <td>NaN</td>\n",
       "      <td>NaN</td>\n",
       "      <td>NaN</td>\n",
       "      <td>NaN</td>\n",
       "      <td>NaN</td>\n",
       "      <td>2005.073280</td>\n",
       "      <td>NaN</td>\n",
       "      <td>116.355920</td>\n",
       "      <td>NaN</td>\n",
       "      <td>NaN</td>\n",
       "      <td>5.723360</td>\n",
       "      <td>NaN</td>\n",
       "      <td>NaN</td>\n",
       "      <td>NaN</td>\n",
       "      <td>NaN</td>\n",
       "      <td>0.0</td>\n",
       "      <td>50813.627300</td>\n",
       "      <td>NaN</td>\n",
       "    </tr>\n",
       "    <tr>\n",
       "      <th>std</th>\n",
       "      <td>NaN</td>\n",
       "      <td>NaN</td>\n",
       "      <td>NaN</td>\n",
       "      <td>NaN</td>\n",
       "      <td>NaN</td>\n",
       "      <td>NaN</td>\n",
       "      <td>NaN</td>\n",
       "      <td>105.712813</td>\n",
       "      <td>NaN</td>\n",
       "      <td>209.216627</td>\n",
       "      <td>NaN</td>\n",
       "      <td>NaN</td>\n",
       "      <td>3.711984</td>\n",
       "      <td>NaN</td>\n",
       "      <td>NaN</td>\n",
       "      <td>NaN</td>\n",
       "      <td>NaN</td>\n",
       "      <td>0.0</td>\n",
       "      <td>25779.747957</td>\n",
       "      <td>NaN</td>\n",
       "    </tr>\n",
       "    <tr>\n",
       "      <th>min</th>\n",
       "      <td>NaN</td>\n",
       "      <td>NaN</td>\n",
       "      <td>NaN</td>\n",
       "      <td>NaN</td>\n",
       "      <td>NaN</td>\n",
       "      <td>NaN</td>\n",
       "      <td>NaN</td>\n",
       "      <td>1000.000000</td>\n",
       "      <td>NaN</td>\n",
       "      <td>0.000000</td>\n",
       "      <td>NaN</td>\n",
       "      <td>NaN</td>\n",
       "      <td>0.000000</td>\n",
       "      <td>NaN</td>\n",
       "      <td>NaN</td>\n",
       "      <td>NaN</td>\n",
       "      <td>NaN</td>\n",
       "      <td>0.0</td>\n",
       "      <td>1067.000000</td>\n",
       "      <td>NaN</td>\n",
       "    </tr>\n",
       "    <tr>\n",
       "      <th>25%</th>\n",
       "      <td>NaN</td>\n",
       "      <td>NaN</td>\n",
       "      <td>NaN</td>\n",
       "      <td>NaN</td>\n",
       "      <td>NaN</td>\n",
       "      <td>NaN</td>\n",
       "      <td>NaN</td>\n",
       "      <td>1999.000000</td>\n",
       "      <td>NaN</td>\n",
       "      <td>70.000000</td>\n",
       "      <td>NaN</td>\n",
       "      <td>NaN</td>\n",
       "      <td>3.000000</td>\n",
       "      <td>NaN</td>\n",
       "      <td>NaN</td>\n",
       "      <td>NaN</td>\n",
       "      <td>NaN</td>\n",
       "      <td>0.0</td>\n",
       "      <td>30451.000000</td>\n",
       "      <td>NaN</td>\n",
       "    </tr>\n",
       "    <tr>\n",
       "      <th>50%</th>\n",
       "      <td>NaN</td>\n",
       "      <td>NaN</td>\n",
       "      <td>NaN</td>\n",
       "      <td>NaN</td>\n",
       "      <td>NaN</td>\n",
       "      <td>NaN</td>\n",
       "      <td>NaN</td>\n",
       "      <td>2003.000000</td>\n",
       "      <td>NaN</td>\n",
       "      <td>105.000000</td>\n",
       "      <td>NaN</td>\n",
       "      <td>NaN</td>\n",
       "      <td>6.000000</td>\n",
       "      <td>NaN</td>\n",
       "      <td>NaN</td>\n",
       "      <td>NaN</td>\n",
       "      <td>NaN</td>\n",
       "      <td>0.0</td>\n",
       "      <td>49577.000000</td>\n",
       "      <td>NaN</td>\n",
       "    </tr>\n",
       "    <tr>\n",
       "      <th>75%</th>\n",
       "      <td>NaN</td>\n",
       "      <td>NaN</td>\n",
       "      <td>NaN</td>\n",
       "      <td>NaN</td>\n",
       "      <td>NaN</td>\n",
       "      <td>NaN</td>\n",
       "      <td>NaN</td>\n",
       "      <td>2008.000000</td>\n",
       "      <td>NaN</td>\n",
       "      <td>150.000000</td>\n",
       "      <td>NaN</td>\n",
       "      <td>NaN</td>\n",
       "      <td>9.000000</td>\n",
       "      <td>NaN</td>\n",
       "      <td>NaN</td>\n",
       "      <td>NaN</td>\n",
       "      <td>NaN</td>\n",
       "      <td>0.0</td>\n",
       "      <td>71540.000000</td>\n",
       "      <td>NaN</td>\n",
       "    </tr>\n",
       "    <tr>\n",
       "      <th>max</th>\n",
       "      <td>NaN</td>\n",
       "      <td>NaN</td>\n",
       "      <td>NaN</td>\n",
       "      <td>NaN</td>\n",
       "      <td>NaN</td>\n",
       "      <td>NaN</td>\n",
       "      <td>NaN</td>\n",
       "      <td>9999.000000</td>\n",
       "      <td>NaN</td>\n",
       "      <td>17700.000000</td>\n",
       "      <td>NaN</td>\n",
       "      <td>NaN</td>\n",
       "      <td>12.000000</td>\n",
       "      <td>NaN</td>\n",
       "      <td>NaN</td>\n",
       "      <td>NaN</td>\n",
       "      <td>NaN</td>\n",
       "      <td>0.0</td>\n",
       "      <td>99998.000000</td>\n",
       "      <td>NaN</td>\n",
       "    </tr>\n",
       "  </tbody>\n",
       "</table>\n",
       "</div>"
      ],
      "text/plain": [
       "               crawled_date         name  seller offer_type  price abtest  \\\n",
       "count                 50000        50000   50000      50000  50000  50000   \n",
       "unique                48213        38754       2          2   2357      2   \n",
       "top     2016-03-11 22:38:16  Ford_Fiesta  privat    Angebot     $0   test   \n",
       "freq                      3           78   49999      49999   1421  25756   \n",
       "mean                    NaN          NaN     NaN        NaN    NaN    NaN   \n",
       "std                     NaN          NaN     NaN        NaN    NaN    NaN   \n",
       "min                     NaN          NaN     NaN        NaN    NaN    NaN   \n",
       "25%                     NaN          NaN     NaN        NaN    NaN    NaN   \n",
       "50%                     NaN          NaN     NaN        NaN    NaN    NaN   \n",
       "75%                     NaN          NaN     NaN        NaN    NaN    NaN   \n",
       "max                     NaN          NaN     NaN        NaN    NaN    NaN   \n",
       "\n",
       "       vehicle_type  registration_year  gearbox      power_ps  model  \\\n",
       "count         44905       50000.000000    47320  50000.000000  47242   \n",
       "unique            8                NaN        2           NaN    245   \n",
       "top       limousine                NaN  manuell           NaN   golf   \n",
       "freq          12859                NaN    36993           NaN   4024   \n",
       "mean            NaN        2005.073280      NaN    116.355920    NaN   \n",
       "std             NaN         105.712813      NaN    209.216627    NaN   \n",
       "min             NaN        1000.000000      NaN      0.000000    NaN   \n",
       "25%             NaN        1999.000000      NaN     70.000000    NaN   \n",
       "50%             NaN        2003.000000      NaN    105.000000    NaN   \n",
       "75%             NaN        2008.000000      NaN    150.000000    NaN   \n",
       "max             NaN        9999.000000      NaN  17700.000000    NaN   \n",
       "\n",
       "         odometer  registration_month fuel_type       brand damage  \\\n",
       "count       50000        50000.000000     45518       50000  40171   \n",
       "unique         13                 NaN         7          40      2   \n",
       "top     150,000km                 NaN    benzin  volkswagen   nein   \n",
       "freq        32424                 NaN     30107       10687  35232   \n",
       "mean          NaN            5.723360       NaN         NaN    NaN   \n",
       "std           NaN            3.711984       NaN         NaN    NaN   \n",
       "min           NaN            0.000000       NaN         NaN    NaN   \n",
       "25%           NaN            3.000000       NaN         NaN    NaN   \n",
       "50%           NaN            6.000000       NaN         NaN    NaN   \n",
       "75%           NaN            9.000000       NaN         NaN    NaN   \n",
       "max           NaN           12.000000       NaN         NaN    NaN   \n",
       "\n",
       "                   add_date  pictures_number   postal_code  \\\n",
       "count                 50000          50000.0  50000.000000   \n",
       "unique                   76              NaN           NaN   \n",
       "top     2016-04-03 00:00:00              NaN           NaN   \n",
       "freq                   1946              NaN           NaN   \n",
       "mean                    NaN              0.0  50813.627300   \n",
       "std                     NaN              0.0  25779.747957   \n",
       "min                     NaN              0.0   1067.000000   \n",
       "25%                     NaN              0.0  30451.000000   \n",
       "50%                     NaN              0.0  49577.000000   \n",
       "75%                     NaN              0.0  71540.000000   \n",
       "max                     NaN              0.0  99998.000000   \n",
       "\n",
       "                  last_seen  \n",
       "count                 50000  \n",
       "unique                39481  \n",
       "top     2016-04-07 06:17:27  \n",
       "freq                      8  \n",
       "mean                    NaN  \n",
       "std                     NaN  \n",
       "min                     NaN  \n",
       "25%                     NaN  \n",
       "50%                     NaN  \n",
       "75%                     NaN  \n",
       "max                     NaN  "
      ]
     },
     "execution_count": 8,
     "metadata": {},
     "output_type": "execute_result"
    }
   ],
   "source": [
    "autos.describe(include='all')"
   ]
  },
  {
   "cell_type": "markdown",
   "metadata": {},
   "source": [
    "Como pode ser percebido acima na descrição, existem colunas como preço, que são colunas chaves para se ter análises numéricas e é inviável no formato que estão."
   ]
  },
  {
   "cell_type": "markdown",
   "metadata": {},
   "source": [
    "### Transfomação numérica:"
   ]
  },
  {
   "cell_type": "markdown",
   "metadata": {},
   "source": [
    "Inicialmente é de boa prática usar uma amostra aleatória do conteúdo que será modificado para analisar alguma possível anomalia:"
   ]
  },
  {
   "cell_type": "code",
   "execution_count": 9,
   "metadata": {},
   "outputs": [
    {
     "data": {
      "text/plain": [
       "17702       $500\n",
       "44709       $690\n",
       "26333     $3,999\n",
       "21771     $1,690\n",
       "15170    $15,500\n",
       "Name: price, dtype: object"
      ]
     },
     "execution_count": 9,
     "metadata": {},
     "output_type": "execute_result"
    }
   ],
   "source": [
    "autos[\"price\"].sample(5)"
   ]
  },
  {
   "cell_type": "code",
   "execution_count": 10,
   "metadata": {},
   "outputs": [
    {
     "data": {
      "text/plain": [
       "dtype('int32')"
      ]
     },
     "execution_count": 10,
     "metadata": {},
     "output_type": "execute_result"
    }
   ],
   "source": [
    "autos[\"price\"] = autos[\"price\"].str.replace(\"$\",\"\").str.replace(\",\",\"\")\n",
    "autos[\"price\"] = autos[\"price\"].astype(int)\n",
    "autos[\"price\"].dtype"
   ]
  },
  {
   "cell_type": "markdown",
   "metadata": {},
   "source": [
    "Após a modificação é importante informar a unidade de medida da coluna, já que será modificado as referência nos elementos:"
   ]
  },
  {
   "cell_type": "code",
   "execution_count": 11,
   "metadata": {},
   "outputs": [],
   "source": [
    "autos.rename({\"price\":\"price_us\"}, axis=1, inplace=True)"
   ]
  },
  {
   "cell_type": "markdown",
   "metadata": {},
   "source": [
    "O mesmo procedimento, mas para outras colunas:"
   ]
  },
  {
   "cell_type": "code",
   "execution_count": 12,
   "metadata": {},
   "outputs": [
    {
     "name": "stdout",
     "output_type": "stream",
     "text": [
      "5665      70,000km\n",
      "9140     150,000km\n",
      "22082    150,000km\n",
      "Name: odometer, dtype: object\n"
     ]
    }
   ],
   "source": [
    "#Transformando em valores numericos a kilometragem\n",
    "print(autos[\"odometer\"].sample(3))"
   ]
  },
  {
   "cell_type": "code",
   "execution_count": 13,
   "metadata": {},
   "outputs": [],
   "source": [
    "autos[\"odometer\"] = autos[\"odometer\"].str.replace(\",\",\"\").str.replace(\"km\",\"\")\n",
    "autos[\"odometer\"] = autos[\"odometer\"].astype(int)\n",
    "\n",
    "autos.rename({\"odometer\":\"odometer_km\"}, axis=1, inplace=True)"
   ]
  },
  {
   "cell_type": "markdown",
   "metadata": {},
   "source": [
    "### Colunas com valores praticamente únicos:"
   ]
  },
  {
   "cell_type": "markdown",
   "metadata": {},
   "source": [
    "Como pode ser percebido na descrição da DataFrame, as colunas 'seller' e 'offer_type', possuem 49999 dos 50000 elementos iguais, ou seja essas colunas não possuem valor a contribuir para análises, portanto podemos retirá-las do dataset"
   ]
  },
  {
   "cell_type": "code",
   "execution_count": 14,
   "metadata": {},
   "outputs": [],
   "source": [
    "autos = autos.drop(\"seller\", axis=1)\n",
    "autos = autos.drop(\"offer_type\", axis=1)"
   ]
  },
  {
   "cell_type": "markdown",
   "metadata": {},
   "source": [
    "### Retirando pontos muito fora do padrão (outliers):"
   ]
  },
  {
   "cell_type": "markdown",
   "metadata": {},
   "source": [
    "Um dos métodos mais simples para encontrar parte dos outliers é procurar dentro de dados numéricos por valores muito mais altos ou muito mais baixo que o padrão:"
   ]
  },
  {
   "cell_type": "code",
   "execution_count": 15,
   "metadata": {},
   "outputs": [
    {
     "name": "stdout",
     "output_type": "stream",
     "text": [
      "PREÇO:\n",
      "shape dos valores unicos:  (2357,)\n",
      "\n",
      "descricao: count    5.000000e+04\n",
      "mean     9.840044e+03\n",
      "std      4.811044e+05\n",
      "min      0.000000e+00\n",
      "25%      1.100000e+03\n",
      "50%      2.950000e+03\n",
      "75%      7.200000e+03\n",
      "max      1.000000e+08\n",
      "Name: price_us, dtype: float64\n"
     ]
    }
   ],
   "source": [
    "print(\"PREÇO:\")\n",
    "print(\"shape dos valores unicos: \", autos[\"price_us\"].unique().shape)\n",
    "print(\"\\ndescricao:\", autos[\"price_us\"].describe())"
   ]
  },
  {
   "cell_type": "markdown",
   "metadata": {},
   "source": [
    "Pode-se perceber que o mínimo e o máximo estão muito fora de um padrão.<br>\n",
    "Portanto os valores da coluna serão análisados com o intuito de encontrar porcentagens limitrofes que definirão os outliers."
   ]
  },
  {
   "cell_type": "code",
   "execution_count": 16,
   "metadata": {},
   "outputs": [
    {
     "name": "stdout",
     "output_type": "stream",
     "text": [
      "Percentage  1 :  0.0\n",
      "Percentage  3 :  1.0\n",
      "Percentage  5 :  200.0\n",
      "Percentage  7 :  300.0\n",
      "Percentage  9 :  450.0\n",
      "\n",
      "Percentage  3.0 :  1.0\n",
      "Percentage  3.2 :  14.968000000000075\n",
      "Percentage  3.4 :  64.83000000000061\n",
      "Percentage  3.6 :  100.0\n",
      "Percentage  3.8 :  111.0\n",
      "Percentage  4.0 :  150.0\n"
     ]
    }
   ],
   "source": [
    "for percentage in range(1, 10, 2):\n",
    "    print(\"Percentage \", percentage, \": \", autos[\"price_us\"].quantile(percentage/100))\n",
    "print()\n",
    "for percentage in range(30, 41, 2):\n",
    "    print(\"Percentage \", percentage/10, \": \", autos[\"price_us\"].quantile(percentage/1000))"
   ]
  },
  {
   "cell_type": "markdown",
   "metadata": {},
   "source": [
    "Logo pode-se notar que os preços com valores abaixo dos 3.2% (~15 dólares) estão muito fora de um padrão."
   ]
  },
  {
   "cell_type": "code",
   "execution_count": 17,
   "metadata": {},
   "outputs": [
    {
     "name": "stdout",
     "output_type": "stream",
     "text": [
      "Percentage  90 :  14000.0\n",
      "Percentage  92 :  15900.0\n",
      "Percentage  94 :  18000.0\n",
      "Percentage  96 :  21950.0\n",
      "Percentage  98 :  28000.0\n",
      "\n",
      "Percentage  98.5 :  31400.74999999997\n",
      "Percentage  99.0 :  35900.0\n",
      "Percentage  99.5 :  47000.0\n",
      "Percentage  100.0 :  99999999.0\n",
      "\n",
      "11.111111\n",
      "1.3\n",
      "10.0\n",
      "1.234566\n",
      "11.111111\n",
      "12.345678\n",
      "12.345678\n",
      "99.999999\n",
      "27.322222\n",
      "12.345678\n",
      "3.89\n"
     ]
    }
   ],
   "source": [
    "for percentage in range(90, 100, 2):\n",
    "    print(\"Percentage \", percentage, \": \", autos[\"price_us\"].quantile(percentage/100))\n",
    "\n",
    "print()\n",
    "for percentage in range(985, 1001, 5):\n",
    "    print(\"Percentage \", percentage/10, \": \", autos[\"price_us\"].quantile(percentage/1000))\n",
    "    \n",
    "print()\n",
    "for values in autos[\"price_us\"]:\n",
    "    if values>1000000:\n",
    "        print(values/1000000)"
   ]
  },
  {
   "cell_type": "markdown",
   "metadata": {},
   "source": [
    "No caso do limite superior temos 6 exemplares entre 10 e 12 milhões, mas os últimos dois que são ~30milhões e ~100 milhões estão muito fora do padrão."
   ]
  },
  {
   "cell_type": "markdown",
   "metadata": {},
   "source": [
    "Com os limites inferiores e superiores definidos em preço, serão retiradas as respectivas linhas que estão fora desses limites"
   ]
  },
  {
   "cell_type": "code",
   "execution_count": 18,
   "metadata": {},
   "outputs": [],
   "source": [
    "autos= autos[autos[\"price_us\"].between(15.0,13000000.0)]"
   ]
  },
  {
   "cell_type": "markdown",
   "metadata": {},
   "source": [
    "<br>\n",
    "<br>\n",
    "O mesmo processo será repetido para a <b>kilometragem</b>:"
   ]
  },
  {
   "cell_type": "code",
   "execution_count": 19,
   "metadata": {},
   "outputs": [
    {
     "data": {
      "text/plain": [
       "(13,)"
      ]
     },
     "execution_count": 19,
     "metadata": {},
     "output_type": "execute_result"
    }
   ],
   "source": [
    "autos[\"odometer_km\"].unique().shape"
   ]
  },
  {
   "cell_type": "markdown",
   "metadata": {},
   "source": [
    "Já que a kilometragem possui apenas 13 valores diferentes a análise é mais simples."
   ]
  },
  {
   "cell_type": "code",
   "execution_count": 20,
   "metadata": {},
   "outputs": [
    {
     "data": {
      "text/plain": [
       "150000    31304\n",
       "125000     5047\n",
       "100000     2108\n",
       "90000      1733\n",
       "80000      1414\n",
       "70000      1215\n",
       "60000      1153\n",
       "50000      1013\n",
       "40000       815\n",
       "5000        807\n",
       "30000       779\n",
       "20000       761\n",
       "10000       249\n",
       "Name: odometer_km, dtype: int64"
      ]
     },
     "execution_count": 20,
     "metadata": {},
     "output_type": "execute_result"
    }
   ],
   "source": [
    "autos[\"odometer_km\"].value_counts()"
   ]
  },
  {
   "cell_type": "markdown",
   "metadata": {},
   "source": [
    "Pode-se perceber que a kilometragem é padronizada pelo site e que não há valores máximos e mínimos suficientemente isolados que gerem a necessidade de serem retirados do dataset. "
   ]
  },
  {
   "cell_type": "code",
   "execution_count": 21,
   "metadata": {},
   "outputs": [
    {
     "data": {
      "text/plain": [
       "(48398, 18)"
      ]
     },
     "execution_count": 21,
     "metadata": {},
     "output_type": "execute_result"
    }
   ],
   "source": [
    "autos.shape"
   ]
  },
  {
   "cell_type": "markdown",
   "metadata": {},
   "source": [
    "Foram retiradas 1602 linhas do dataset original com as retirada dos outliers do preço. É um valor satisfatório já que a perda de dados não foi muito grande e com isso conseguiu-se alcançar uma qualidade melhor dos dados para análise."
   ]
  },
  {
   "cell_type": "markdown",
   "metadata": {},
   "source": [
    "### Analisando colunas com datas:"
   ]
  },
  {
   "cell_type": "markdown",
   "metadata": {},
   "source": [
    "No banco existem cinco colunas representadas por datas.<br>\n",
    "Dentre elas três foram criadas pelo _**site:**_ \n",
    "* \"registration_month\"\n",
    "* \"registration_year\"\n",
    "* \"add_date\"."
   ]
  },
  {
   "cell_type": "markdown",
   "metadata": {},
   "source": [
    "Já as outras duas, foram criadas pelo _**crawler:**_\n",
    "* \"crawled_date\"\n",
    "* \"last_seen\"."
   ]
  },
  {
   "cell_type": "code",
   "execution_count": 22,
   "metadata": {},
   "outputs": [
    {
     "data": {
      "text/plain": [
       "crawled_date          object\n",
       "add_date              object\n",
       "last_seen             object\n",
       "registration_month     int64\n",
       "registration_year      int64\n",
       "dtype: object"
      ]
     },
     "execution_count": 22,
     "metadata": {},
     "output_type": "execute_result"
    }
   ],
   "source": [
    "autos[['crawled_date','add_date','last_seen', 'registration_month', 'registration_year']].dtypes"
   ]
  },
  {
   "cell_type": "markdown",
   "metadata": {},
   "source": [
    "É notório que as três primeiras colunas são strings e as últimas duas intergers."
   ]
  },
  {
   "cell_type": "code",
   "execution_count": 23,
   "metadata": {},
   "outputs": [
    {
     "data": {
      "text/html": [
       "<div>\n",
       "<style scoped>\n",
       "    .dataframe tbody tr th:only-of-type {\n",
       "        vertical-align: middle;\n",
       "    }\n",
       "\n",
       "    .dataframe tbody tr th {\n",
       "        vertical-align: top;\n",
       "    }\n",
       "\n",
       "    .dataframe thead th {\n",
       "        text-align: right;\n",
       "    }\n",
       "</style>\n",
       "<table border=\"1\" class=\"dataframe\">\n",
       "  <thead>\n",
       "    <tr style=\"text-align: right;\">\n",
       "      <th></th>\n",
       "      <th>crawled_date</th>\n",
       "      <th>add_date</th>\n",
       "      <th>last_seen</th>\n",
       "      <th>registration_month</th>\n",
       "      <th>registration_year</th>\n",
       "    </tr>\n",
       "  </thead>\n",
       "  <tbody>\n",
       "    <tr>\n",
       "      <th>0</th>\n",
       "      <td>2016-03-26 17:47:46</td>\n",
       "      <td>2016-03-26 00:00:00</td>\n",
       "      <td>2016-04-06 06:45:54</td>\n",
       "      <td>3</td>\n",
       "      <td>2004</td>\n",
       "    </tr>\n",
       "    <tr>\n",
       "      <th>1</th>\n",
       "      <td>2016-04-04 13:38:56</td>\n",
       "      <td>2016-04-04 00:00:00</td>\n",
       "      <td>2016-04-06 14:45:08</td>\n",
       "      <td>6</td>\n",
       "      <td>1997</td>\n",
       "    </tr>\n",
       "    <tr>\n",
       "      <th>2</th>\n",
       "      <td>2016-03-26 18:57:24</td>\n",
       "      <td>2016-03-26 00:00:00</td>\n",
       "      <td>2016-04-06 20:15:37</td>\n",
       "      <td>7</td>\n",
       "      <td>2009</td>\n",
       "    </tr>\n",
       "    <tr>\n",
       "      <th>3</th>\n",
       "      <td>2016-03-12 16:58:10</td>\n",
       "      <td>2016-03-12 00:00:00</td>\n",
       "      <td>2016-03-15 03:16:28</td>\n",
       "      <td>6</td>\n",
       "      <td>2007</td>\n",
       "    </tr>\n",
       "    <tr>\n",
       "      <th>4</th>\n",
       "      <td>2016-04-01 14:38:50</td>\n",
       "      <td>2016-04-01 00:00:00</td>\n",
       "      <td>2016-04-01 14:38:50</td>\n",
       "      <td>7</td>\n",
       "      <td>2003</td>\n",
       "    </tr>\n",
       "  </tbody>\n",
       "</table>\n",
       "</div>"
      ],
      "text/plain": [
       "          crawled_date             add_date            last_seen  \\\n",
       "0  2016-03-26 17:47:46  2016-03-26 00:00:00  2016-04-06 06:45:54   \n",
       "1  2016-04-04 13:38:56  2016-04-04 00:00:00  2016-04-06 14:45:08   \n",
       "2  2016-03-26 18:57:24  2016-03-26 00:00:00  2016-04-06 20:15:37   \n",
       "3  2016-03-12 16:58:10  2016-03-12 00:00:00  2016-03-15 03:16:28   \n",
       "4  2016-04-01 14:38:50  2016-04-01 00:00:00  2016-04-01 14:38:50   \n",
       "\n",
       "   registration_month  registration_year  \n",
       "0                   3               2004  \n",
       "1                   6               1997  \n",
       "2                   7               2009  \n",
       "3                   6               2007  \n",
       "4                   7               2003  "
      ]
     },
     "execution_count": 23,
     "metadata": {},
     "output_type": "execute_result"
    }
   ],
   "source": [
    "autos[['crawled_date','add_date','last_seen','registration_month', 'registration_year']][0:5]"
   ]
  },
  {
   "cell_type": "markdown",
   "metadata": {},
   "source": [
    "Será realizado um estudo sobre os valores encontrados nas colunas com elementos em string. Para isso será utilizado como base os dez primeiros caracteres, que representam o dia, a partir deles será possível realizar uma distribuição dos mesmos em porcentagem, o que permitirá uma análise dos padrões a partir dos valores encontrados."
   ]
  },
  {
   "cell_type": "code",
   "execution_count": 24,
   "metadata": {},
   "outputs": [
    {
     "data": {
      "text/plain": [
       "<bound method Series.sort_index of 2016-04-03    0.038576\n",
       "2016-03-20    0.037770\n",
       "2016-03-21    0.037316\n",
       "2016-03-12    0.036964\n",
       "2016-03-14    0.036634\n",
       "2016-04-04    0.036530\n",
       "2016-03-07    0.036035\n",
       "2016-04-02    0.035497\n",
       "2016-03-28    0.034857\n",
       "2016-03-19    0.034754\n",
       "2016-03-15    0.034258\n",
       "2016-03-29    0.034154\n",
       "2016-04-01    0.033741\n",
       "2016-03-30    0.033741\n",
       "2016-03-08    0.033286\n",
       "2016-03-09    0.033059\n",
       "2016-03-22    0.032956\n",
       "2016-03-11    0.032584\n",
       "2016-03-23    0.032274\n",
       "2016-03-26    0.032253\n",
       "2016-03-10    0.032212\n",
       "2016-03-31    0.031840\n",
       "2016-03-17    0.031613\n",
       "2016-03-25    0.031551\n",
       "2016-03-27    0.031096\n",
       "2016-03-16    0.029485\n",
       "2016-03-24    0.029402\n",
       "2016-03-05    0.025352\n",
       "2016-03-13    0.015641\n",
       "2016-03-06    0.014050\n",
       "2016-04-05    0.013079\n",
       "2016-03-18    0.012893\n",
       "2016-04-06    0.003161\n",
       "2016-04-07    0.001384\n",
       "Name: crawled_date, dtype: float64>"
      ]
     },
     "execution_count": 24,
     "metadata": {},
     "output_type": "execute_result"
    }
   ],
   "source": [
    "autos['crawled_date'].str[:10].value_counts(normalize=True, dropna=False).sort_index"
   ]
  },
  {
   "cell_type": "markdown",
   "metadata": {},
   "source": [
    "Com os dados resultantes da distribuição da coluna 'crawled_date' pode-se afirmar que a pesquisa que gerou os dados foi realizada aproximadamente em um periódo de um mês e meio, entre Março e Abril de 2016."
   ]
  },
  {
   "cell_type": "code",
   "execution_count": 25,
   "metadata": {},
   "outputs": [
    {
     "data": {
      "text/plain": [
       "<bound method Series.sort_index of 2016-04-03    0.038824\n",
       "2016-03-20    0.037832\n",
       "2016-03-21    0.037543\n",
       "2016-04-04    0.036902\n",
       "2016-03-12    0.036778\n",
       "2016-03-14    0.035270\n",
       "2016-04-02    0.035187\n",
       "2016-03-28    0.034981\n",
       "2016-03-07    0.034774\n",
       "2016-03-29    0.034092\n",
       "2016-03-15    0.033989\n",
       "2016-04-01    0.033720\n",
       "2016-03-19    0.033638\n",
       "2016-03-30    0.033555\n",
       "2016-03-08    0.033286\n",
       "2016-03-09    0.033142\n",
       "2016-03-11    0.032915\n",
       "2016-03-22    0.032770\n",
       "2016-03-26    0.032315\n",
       "2016-03-23    0.032109\n",
       "2016-03-10    0.031923\n",
       "2016-03-31    0.031881\n",
       "2016-03-25    0.031675\n",
       "2016-03-17    0.031282\n",
       "2016-03-27    0.031014\n",
       "2016-03-16    0.029981\n",
       "2016-03-24    0.029340\n",
       "2016-03-05    0.022914\n",
       "2016-03-13    0.017005\n",
       "2016-03-06    0.015311\n",
       "                ...   \n",
       "2016-02-20    0.000041\n",
       "2016-02-14    0.000041\n",
       "2016-02-02    0.000041\n",
       "2016-02-18    0.000041\n",
       "2016-02-12    0.000041\n",
       "2016-02-26    0.000041\n",
       "2016-02-24    0.000041\n",
       "2016-01-10    0.000041\n",
       "2016-02-05    0.000041\n",
       "2016-01-16    0.000021\n",
       "2016-02-16    0.000021\n",
       "2015-06-11    0.000021\n",
       "2016-02-08    0.000021\n",
       "2016-02-07    0.000021\n",
       "2015-12-30    0.000021\n",
       "2016-01-13    0.000021\n",
       "2016-02-01    0.000021\n",
       "2015-09-09    0.000021\n",
       "2016-01-07    0.000021\n",
       "2016-01-22    0.000021\n",
       "2015-12-05    0.000021\n",
       "2016-01-14    0.000021\n",
       "2016-02-17    0.000021\n",
       "2016-02-09    0.000021\n",
       "2015-11-10    0.000021\n",
       "2015-08-10    0.000021\n",
       "2016-01-29    0.000021\n",
       "2016-01-03    0.000021\n",
       "2016-02-11    0.000021\n",
       "2016-02-22    0.000021\n",
       "Name: add_date, Length: 76, dtype: float64>"
      ]
     },
     "execution_count": 25,
     "metadata": {},
     "output_type": "execute_result"
    }
   ],
   "source": [
    "autos['add_date'].str[:10].value_counts(normalize=True, dropna=False).sort_index"
   ]
  },
  {
   "cell_type": "markdown",
   "metadata": {},
   "source": [
    "É notório que a maior parte dos veículos no site foram anunciados no período da pesquisa ou logo antes."
   ]
  },
  {
   "cell_type": "code",
   "execution_count": 26,
   "metadata": {},
   "outputs": [
    {
     "data": {
      "text/plain": [
       "<bound method Series.sort_index of 2016-04-06    0.221621\n",
       "2016-04-07    0.132010\n",
       "2016-04-05    0.124985\n",
       "2016-03-17    0.028059\n",
       "2016-04-03    0.025187\n",
       "2016-04-02    0.024877\n",
       "2016-03-30    0.024753\n",
       "2016-04-04    0.024505\n",
       "2016-03-31    0.023865\n",
       "2016-03-12    0.023782\n",
       "2016-04-01    0.022873\n",
       "2016-03-29    0.022336\n",
       "2016-03-22    0.021385\n",
       "2016-03-28    0.020869\n",
       "2016-03-21    0.020600\n",
       "2016-03-20    0.020600\n",
       "2016-03-24    0.019753\n",
       "2016-03-25    0.019195\n",
       "2016-03-23    0.018596\n",
       "2016-03-26    0.016798\n",
       "2016-03-16    0.016447\n",
       "2016-03-15    0.015868\n",
       "2016-03-19    0.015827\n",
       "2016-03-27    0.015600\n",
       "2016-03-14    0.012624\n",
       "2016-03-11    0.012377\n",
       "2016-03-10    0.010620\n",
       "2016-03-09    0.009649\n",
       "2016-03-13    0.008864\n",
       "2016-03-08    0.007356\n",
       "2016-03-18    0.007314\n",
       "2016-03-07    0.005413\n",
       "2016-03-06    0.004318\n",
       "2016-03-05    0.001074\n",
       "Name: last_seen, dtype: float64>"
      ]
     },
     "execution_count": 26,
     "metadata": {},
     "output_type": "execute_result"
    }
   ],
   "source": [
    "autos['last_seen'].str[:10].value_counts(normalize=True, dropna=False).sort_index"
   ]
  },
  {
   "cell_type": "markdown",
   "metadata": {},
   "source": [
    "Os dados acima demonstram uma clara anormalidade, pois em um período de apenas dois dias mais de 25% dos anúncios foram retirados. Esse fato pode demonstrar um improvável e atípico pico  nas vendas, ou, mais provavelmente, esses números estejam relacionados com o período de termino da pesquisa."
   ]
  },
  {
   "cell_type": "markdown",
   "metadata": {},
   "source": [
    "Também será analisada a coluna do ano de registro:"
   ]
  },
  {
   "cell_type": "code",
   "execution_count": 27,
   "metadata": {},
   "outputs": [
    {
     "data": {
      "text/plain": [
       "count    48398.000000\n",
       "mean      2004.773028\n",
       "std         88.793368\n",
       "min       1000.000000\n",
       "25%       1999.000000\n",
       "50%       2004.000000\n",
       "75%       2008.000000\n",
       "max       9999.000000\n",
       "Name: registration_year, dtype: float64"
      ]
     },
     "execution_count": 27,
     "metadata": {},
     "output_type": "execute_result"
    }
   ],
   "source": [
    "autos[\"registration_year\"].describe()"
   ]
  },
  {
   "cell_type": "markdown",
   "metadata": {},
   "source": [
    "Como pode ser visto acima, a coluna que representa o ano de registro dos veículos também possui anormalidades, como o ano mínimo sendo há mais de 10 séculos e o ano máximo estando no futuro.<br>\n",
    "Portando serão definidos limites para as datas de registro. <br>\n",
    "O valor máximo será 2016, pois é o ano da pesquisa, não há como ter carros registrados em anos futuro a esse.<br>\n",
    "O valor mínimo será 1908, pois foi um ano que representa o começo da fabricação em massa de automóveis com o [Model T da ford](https://pt.wikipedia.org/wiki/Ford_Model_T)."
   ]
  },
  {
   "cell_type": "markdown",
   "metadata": {},
   "source": [
    "### Tratando anomalias nos anos de registro:"
   ]
  },
  {
   "cell_type": "markdown",
   "metadata": {},
   "source": [
    "Primeiramente será analisado qual a porcentagem dos dados que possui anomalias, esse valor será decisório para a escolha do formato de solução."
   ]
  },
  {
   "cell_type": "code",
   "execution_count": 28,
   "metadata": {},
   "outputs": [
    {
     "name": "stdout",
     "output_type": "stream",
     "text": [
      "Porcentagem de valores anormais:  0.03880325633290632\n"
     ]
    }
   ],
   "source": [
    "quantidade_de_valores_normais = autos[\"registration_year\"].between(1908,2016).sum()\n",
    "valor_total = autos.shape[0]\n",
    "quantidade_de_valores_anormais = valor_total - quantidade_de_valores_normais\n",
    "\n",
    "print(\"Porcentagem de valores anormais: \", quantidade_de_valores_anormais/valor_total)"
   ]
  },
  {
   "cell_type": "markdown",
   "metadata": {},
   "source": [
    "Como verificado acima as anomalias representam menos de 4% do dataset, logo as linhas que aprensetam-las serão deletadas."
   ]
  },
  {
   "cell_type": "code",
   "execution_count": 29,
   "metadata": {},
   "outputs": [],
   "source": [
    "autos = autos[autos[\"registration_year\"].between(1908,2016)]"
   ]
  },
  {
   "cell_type": "code",
   "execution_count": 30,
   "metadata": {},
   "outputs": [
    {
     "data": {
      "text/plain": [
       "2000    0.067175\n",
       "2005    0.062898\n",
       "1999    0.062059\n",
       "2004    0.058018\n",
       "2003    0.057932\n",
       "2006    0.057416\n",
       "2001    0.056599\n",
       "2002    0.053289\n",
       "1998    0.050537\n",
       "2007    0.048882\n",
       "Name: registration_year, dtype: float64"
      ]
     },
     "execution_count": 30,
     "metadata": {},
     "output_type": "execute_result"
    }
   ],
   "source": [
    "autos[\"registration_year\"].value_counts(normalize=True)[:10]"
   ]
  },
  {
   "cell_type": "markdown",
   "metadata": {},
   "source": [
    "Como pode ser observado a maior parte dos carros foram registrados nos últimos vinte anos."
   ]
  },
  {
   "cell_type": "markdown",
   "metadata": {},
   "source": [
    "### Explorando marcas por preços"
   ]
  },
  {
   "cell_type": "code",
   "execution_count": 31,
   "metadata": {},
   "outputs": [
    {
     "data": {
      "text/plain": [
       "volkswagen        0.211393\n",
       "bmw               0.109974\n",
       "opel              0.107330\n",
       "mercedes_benz     0.096475\n",
       "audi              0.086586\n",
       "ford              0.069991\n",
       "renault           0.047141\n",
       "peugeot           0.029880\n",
       "fiat              0.025688\n",
       "seat              0.018250\n",
       "skoda             0.016402\n",
       "nissan            0.015305\n",
       "mazda             0.015241\n",
       "smart             0.014209\n",
       "citroen           0.014037\n",
       "toyota            0.012747\n",
       "hyundai           0.010039\n",
       "sonstige_autos    0.009673\n",
       "volvo             0.009114\n",
       "mini              0.008770\n",
       "mitsubishi        0.008190\n",
       "honda             0.007846\n",
       "kia               0.007094\n",
       "alfa_romeo        0.006642\n",
       "porsche           0.006083\n",
       "suzuki            0.005933\n",
       "chevrolet         0.005696\n",
       "chrysler          0.003525\n",
       "dacia             0.002644\n",
       "daihatsu          0.002515\n",
       "jeep              0.002279\n",
       "subaru            0.002128\n",
       "land_rover        0.002107\n",
       "saab              0.001655\n",
       "jaguar            0.001569\n",
       "daewoo            0.001483\n",
       "trabant           0.001397\n",
       "rover             0.001333\n",
       "lancia            0.001053\n",
       "lada              0.000580\n",
       "Name: brand, dtype: float64"
      ]
     },
     "execution_count": 31,
     "metadata": {},
     "output_type": "execute_result"
    }
   ],
   "source": [
    "autos[\"brand\"].value_counts(normalize=True)"
   ]
  },
  {
   "cell_type": "markdown",
   "metadata": {},
   "source": [
    "Como pode ser visto acima das cinco marcas com mais carros á venda, cinco são de montadoras alemãs. (Lembrando que esse dataset é originário do ebay alemão).\n",
    "<br>Outro fator notório é que a Volkswagen possui um valor substancialmente maior que as outras marcas, chegando a quase o dobro da segunda colocada.\n",
    "<br>Muitas das marcas acima possui porcentagens irrisórias em relação á quantidade total, então para análise dos preços por marca só serão adotadas as marcas que possuem mais de 2% de veículos em relação ao total.\n"
   ]
  },
  {
   "cell_type": "code",
   "execution_count": 32,
   "metadata": {},
   "outputs": [
    {
     "name": "stdout",
     "output_type": "stream",
     "text": [
      "Index(['volkswagen', 'bmw', 'opel', 'mercedes_benz', 'audi', 'ford', 'renault',\n",
      "       'peugeot', 'fiat'],\n",
      "      dtype='object')\n"
     ]
    }
   ],
   "source": [
    "contador_de_marcas = autos[\"brand\"].value_counts(normalize=True)\n",
    "marcas_comuns = contador_de_marcas[contador_de_marcas > 0.02].index\n",
    "print(marcas_comuns)"
   ]
  },
  {
   "cell_type": "code",
   "execution_count": 33,
   "metadata": {},
   "outputs": [
    {
     "data": {
      "text/plain": [
       "{'volkswagen': 6751,\n",
       " 'bmw': 8608,\n",
       " 'opel': 5465,\n",
       " 'mercedes_benz': 8657,\n",
       " 'audi': 9367,\n",
       " 'ford': 7477,\n",
       " 'renault': 2484,\n",
       " 'peugeot': 3101,\n",
       " 'fiat': 2818}"
      ]
     },
     "execution_count": 33,
     "metadata": {},
     "output_type": "execute_result"
    }
   ],
   "source": [
    "preco_por_marca = {}\n",
    "\n",
    "for marca in marcas_comuns:\n",
    "    dados_das_linhas_da_marca = autos[autos[\"brand\"]==marca]\n",
    "    preco_medio = dados_das_linhas_da_marca[\"price_us\"].mean()\n",
    "    preco_por_marca[marca] = round(preco_medio)\n",
    "\n",
    "preco_por_marca"
   ]
  },
  {
   "cell_type": "markdown",
   "metadata": {},
   "source": [
    "Entende-se pelos dados acima 3 divisões de preço:\n",
    "* Audi, Bmw e Mercedes-Benz são os mais caros;\n",
    "* Renault, Peugeot e Fiat são os mais baratos;\n",
    "* Volkswagen, Ford e Opel possuem valores médios.\n",
    "<br><br>Algo chamativo é o fato que das três marcas mais populares, duas estão dentro do grupo de valores médios, incluindo a Volkswagen, a mais popular."
   ]
  },
  {
   "cell_type": "markdown",
   "metadata": {},
   "source": [
    "### Explorando marcas por kilometragem"
   ]
  },
  {
   "cell_type": "markdown",
   "metadata": {},
   "source": [
    "Utilizando as mesmas marcas encontradas anteriormente (com o critério de acima de 2% do total de veículos), será estudado a kilometragem média pertecente a cada uma."
   ]
  },
  {
   "cell_type": "code",
   "execution_count": 34,
   "metadata": {},
   "outputs": [
    {
     "data": {
      "text/plain": [
       "{'volkswagen': 128723,\n",
       " 'bmw': 132582,\n",
       " 'opel': 129339,\n",
       " 'mercedes_benz': 130839,\n",
       " 'audi': 129234,\n",
       " 'ford': 124244,\n",
       " 'renault': 128144,\n",
       " 'peugeot': 127122,\n",
       " 'fiat': 117067}"
      ]
     },
     "execution_count": 34,
     "metadata": {},
     "output_type": "execute_result"
    }
   ],
   "source": [
    "kilometragem_por_marca = {}\n",
    "\n",
    "for marca in marcas_comuns:\n",
    "    dados_das_linhas_da_marca = autos[autos[\"brand\"]==marca]\n",
    "    kilometragem_media = dados_das_linhas_da_marca[\"odometer_km\"].mean()\n",
    "    kilometragem_por_marca[marca] = round(kilometragem_media)\n",
    "    \n",
    "kilometragem_por_marca"
   ]
  },
  {
   "cell_type": "markdown",
   "metadata": {},
   "source": [
    "Os dados acima mostram que a kilometragem média possui uma variação pequena entre as marcas."
   ]
  },
  {
   "cell_type": "markdown",
   "metadata": {},
   "source": [
    "### Agregando dados"
   ]
  },
  {
   "cell_type": "markdown",
   "metadata": {},
   "source": [
    "Com as últimas duas análises (kilometragens e preços médios), gerou se novas informações que podem ser úteis em futuras análises, portanto esssas informações serão agragadas às informações atuais."
   ]
  },
  {
   "cell_type": "code",
   "execution_count": 35,
   "metadata": {},
   "outputs": [
    {
     "data": {
      "text/plain": [
       "volkswagen       6751\n",
       "bmw              8608\n",
       "opel             5465\n",
       "mercedes_benz    8657\n",
       "audi             9367\n",
       "ford             7477\n",
       "renault          2484\n",
       "peugeot          3101\n",
       "fiat             2818\n",
       "dtype: int64"
      ]
     },
     "execution_count": 35,
     "metadata": {},
     "output_type": "execute_result"
    }
   ],
   "source": [
    "#Criando uma Serie com os dados dos precos medios por marcas\n",
    "serie_marca_preco = pd.Series(preco_por_marca)\n",
    "serie_marca_preco\n"
   ]
  },
  {
   "cell_type": "code",
   "execution_count": 36,
   "metadata": {},
   "outputs": [
    {
     "data": {
      "text/plain": [
       "volkswagen       128723\n",
       "bmw              132582\n",
       "opel             129339\n",
       "mercedes_benz    130839\n",
       "audi             129234\n",
       "ford             124244\n",
       "renault          128144\n",
       "peugeot          127122\n",
       "fiat             117067\n",
       "dtype: int64"
      ]
     },
     "execution_count": 36,
     "metadata": {},
     "output_type": "execute_result"
    }
   ],
   "source": [
    "#Criando uma Serie com os dados das kilometragens medias por marca\n",
    "serie_marca_km = pd.Series(kilometragem_por_marca)\n",
    "serie_marca_km"
   ]
  },
  {
   "cell_type": "code",
   "execution_count": 37,
   "metadata": {},
   "outputs": [
    {
     "data": {
      "text/html": [
       "<div>\n",
       "<style scoped>\n",
       "    .dataframe tbody tr th:only-of-type {\n",
       "        vertical-align: middle;\n",
       "    }\n",
       "\n",
       "    .dataframe tbody tr th {\n",
       "        vertical-align: top;\n",
       "    }\n",
       "\n",
       "    .dataframe thead th {\n",
       "        text-align: right;\n",
       "    }\n",
       "</style>\n",
       "<table border=\"1\" class=\"dataframe\">\n",
       "  <thead>\n",
       "    <tr style=\"text-align: right;\">\n",
       "      <th></th>\n",
       "      <th>mean_price</th>\n",
       "      <th>mean_kilometrage</th>\n",
       "    </tr>\n",
       "  </thead>\n",
       "  <tbody>\n",
       "    <tr>\n",
       "      <th>volkswagen</th>\n",
       "      <td>6751</td>\n",
       "      <td>128723</td>\n",
       "    </tr>\n",
       "    <tr>\n",
       "      <th>bmw</th>\n",
       "      <td>8608</td>\n",
       "      <td>132582</td>\n",
       "    </tr>\n",
       "    <tr>\n",
       "      <th>opel</th>\n",
       "      <td>5465</td>\n",
       "      <td>129339</td>\n",
       "    </tr>\n",
       "    <tr>\n",
       "      <th>mercedes_benz</th>\n",
       "      <td>8657</td>\n",
       "      <td>130839</td>\n",
       "    </tr>\n",
       "    <tr>\n",
       "      <th>audi</th>\n",
       "      <td>9367</td>\n",
       "      <td>129234</td>\n",
       "    </tr>\n",
       "    <tr>\n",
       "      <th>ford</th>\n",
       "      <td>7477</td>\n",
       "      <td>124244</td>\n",
       "    </tr>\n",
       "    <tr>\n",
       "      <th>renault</th>\n",
       "      <td>2484</td>\n",
       "      <td>128144</td>\n",
       "    </tr>\n",
       "    <tr>\n",
       "      <th>peugeot</th>\n",
       "      <td>3101</td>\n",
       "      <td>127122</td>\n",
       "    </tr>\n",
       "    <tr>\n",
       "      <th>fiat</th>\n",
       "      <td>2818</td>\n",
       "      <td>117067</td>\n",
       "    </tr>\n",
       "  </tbody>\n",
       "</table>\n",
       "</div>"
      ],
      "text/plain": [
       "               mean_price  mean_kilometrage\n",
       "volkswagen           6751            128723\n",
       "bmw                  8608            132582\n",
       "opel                 5465            129339\n",
       "mercedes_benz        8657            130839\n",
       "audi                 9367            129234\n",
       "ford                 7477            124244\n",
       "renault              2484            128144\n",
       "peugeot              3101            127122\n",
       "fiat                 2818            117067"
      ]
     },
     "execution_count": 37,
     "metadata": {},
     "output_type": "execute_result"
    }
   ],
   "source": [
    "#Criando um dataframe a partir da series criada anteriormente\n",
    "df_marca_preco_km = pd.DataFrame(serie_marca_preco, columns=['mean_price'])\n",
    "#Adicionando Serie de kilometragem ao dataframe\n",
    "df_marca_preco_km[\"mean_kilometrage\"] = serie_marca_km\n",
    "\n",
    "df_marca_preco_km"
   ]
  },
  {
   "cell_type": "markdown",
   "metadata": {},
   "source": [
    "Com os dados lado a lado é possível notar uma kilometragem média menor em marcas que possuem menor preço médio (sendo essa variação muito pequena, já que a variação da kilometragem é pequena)."
   ]
  },
  {
   "cell_type": "markdown",
   "metadata": {},
   "source": [
    "---\n",
    "# <img src=\"../Fotos/foto03.png\" alt=\"Drawing\" style=\"width:30px; float:left\"/> &nbsp; Salvando os dados limpos"
   ]
  },
  {
   "cell_type": "markdown",
   "metadata": {},
   "source": [
    "Com as ações acima atingiu-se uma limpeza básica dos dados como proposta no projeto, é possível a utilização de mais técnicas, mas é de grande importância entender a necessidade do grau de limpeza que é necessário se obter."
   ]
  },
  {
   "cell_type": "markdown",
   "metadata": {},
   "source": [
    "Salvando os dados como um novo dataset limpo:"
   ]
  },
  {
   "cell_type": "code",
   "execution_count": 38,
   "metadata": {},
   "outputs": [],
   "source": [
    "autos.to_csv('../Dados_limpos/autos_cleaned.csv',index=False)"
   ]
  },
  {
   "cell_type": "markdown",
   "metadata": {},
   "source": [
    "Salvando as novas informações criadas com a análise gerada na limpeza:"
   ]
  },
  {
   "cell_type": "code",
   "execution_count": 39,
   "metadata": {},
   "outputs": [],
   "source": [
    "df_marca_preco_km.to_csv('../Dados_limpos/autos_dados_adicionais.csv',index=False)"
   ]
  }
 ],
 "metadata": {
  "kernelspec": {
   "display_name": "Python 3",
   "language": "python",
   "name": "python3"
  },
  "language_info": {
   "codemirror_mode": {
    "name": "ipython",
    "version": 3
   },
   "file_extension": ".py",
   "mimetype": "text/x-python",
   "name": "python",
   "nbconvert_exporter": "python",
   "pygments_lexer": "ipython3",
   "version": "3.7.0"
  }
 },
 "nbformat": 4,
 "nbformat_minor": 2
}
